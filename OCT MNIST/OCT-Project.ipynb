{
 "cells": [
  {
   "cell_type": "markdown",
   "id": "1a244088-fde2-4e54-8528-ba1dddc1bcb9",
   "metadata": {},
   "source": [
    "# OCT MNIST Random Forest Model\n",
    "## Author: Katie Baek\n",
    "### Date: Monday 4/29/24"
   ]
  },
  {
   "cell_type": "code",
   "execution_count": 5,
   "id": "248d4449-9ce9-486a-910e-95660e5974f8",
   "metadata": {},
   "outputs": [],
   "source": [
    "import pandas as pd\n",
    "import numpy as np\n",
    "from medmnist import OCTMNIST"
   ]
  },
  {
   "cell_type": "code",
   "execution_count": null,
   "id": "a7224075-1c1f-4afe-9b11-467c6672a03f",
   "metadata": {},
   "outputs": [
    {
     "name": "stdout",
     "output_type": "stream",
     "text": [
      "Using downloaded and verified file: /home/jessica/.medmnist/octmnist.npz\n",
      "Using downloaded and verified file: /home/jessica/.medmnist/octmnist.npz\n"
     ]
    }
   ],
   "source": [
    "'''\n",
    "Downloads the data from medmnist and turns it to a DataFrame where the rows are the samples \n",
    "and the columns are the attributes (the pixels)\n",
    "'''\n",
    "\n",
    "train_dataset = OCTMNIST(split=\"train\", download=True)\n",
    "test_dataset = OCTMNIST(split = 'test', download = True)\n",
    "\n",
    "train_x = []\n",
    "train_y = []\n",
    "test_x = []\n",
    "test_y = []\n",
    "\n",
    "\n",
    "for i in range(len(train_dataset)):\n",
    "    x, y = train_dataset[i]\n",
    "    train_x.append(np.ndarray.flatten(np.asarray(x)))\n",
    "    train_y.append(y)\n",
    "\n",
    "for i in range(len(test_dataset)):\n",
    "    x, y = train_dataset[i]\n",
    "    test_x.append(np.ndarray.flatten(np.asarray(x)))\n",
    "    test_y.append(y)\n",
    "\n",
    "train_x_df = pd.DataFrame(train_x)\n",
    "test_x_df = pd.DataFrame(test_x)\n",
    "train_y_df = pd.DataFrame(train_y)\n",
    "test_y_df = pd.DataFrame(test_y)"
   ]
  }
 ],
 "metadata": {
  "kernelspec": {
   "display_name": "Python 3 (ipykernel)",
   "language": "python",
   "name": "python3"
  },
  "language_info": {
   "codemirror_mode": {
    "name": "ipython",
    "version": 3
   },
   "file_extension": ".py",
   "mimetype": "text/x-python",
   "name": "python",
   "nbconvert_exporter": "python",
   "pygments_lexer": "ipython3",
   "version": "3.10.12"
  }
 },
 "nbformat": 4,
 "nbformat_minor": 5
}
