{
 "cells": [
  {
   "cell_type": "code",
   "execution_count": null,
   "metadata": {},
   "outputs": [],
   "source": [
    "get_ipython().ast_node_interactivity = 'all'\n",
    "import pandas \n",
    "import numpy\n",
    "from sklearn.model_selection import train_test_split\n",
    "from sklearn.linear_model import LinearRegression\n",
    "import sklearn.metrics\n",
    "from sklearn.pipeline import Pipeline\n",
    "from sklearn.preprocessing import StandardScaler\n",
    "from sklearn.compose import ColumnTransformer\n",
    "from sklearn.pipeline import FeatureUnion\n",
    "from sklearn.preprocessing import OneHotEncoder\n",
    "from sklearn.tree import DecisionTreeClassifier\n",
    "from sklearn.tree import plot_tree\n",
    "\n",
    "from sklearn.ensemble import BaggingClassifier \n",
    "from sklearn.ensemble import RandomForestClassifier\n",
    "from sklearn.ensemble import AdaBoostClassifier\n",
    "from sklearn.ensemble import GradientBoostingClassifier\n",
    "\n",
    "from sklearn.model_selection import GridSearchCV"
   ]
  },
  {
   "cell_type": "markdown",
   "metadata": {},
   "source": [
    "## The Usual\n",
    "\n",
    "Copy script from last time to\n",
    "- Import data\n",
    "- Split into test/train\n",
    "- Create pipes for preprocessing\n",
    "\n",
    "Features:\n",
    "- Numeric `['Limit_Bal','Age','Bill_Amt1','Pay_Amt1']`\n",
    "\n",
    "\n",
    "- Categorical `['Card', 'Marriage', 'Pay_0']`"
   ]
  },
  {
   "cell_type": "code",
   "execution_count": null,
   "metadata": {},
   "outputs": [],
   "source": []
  },
  {
   "cell_type": "markdown",
   "metadata": {},
   "source": [
    "## Decision Trees\n",
    "\n",
    "Make a pipeline that uses `DecisionTreeClassifier` from the `sklearn.tree` package"
   ]
  },
  {
   "cell_type": "code",
   "execution_count": null,
   "metadata": {},
   "outputs": [],
   "source": [
    "pipeDt = Pipeline([\n",
    "], verbose=True)"
   ]
  },
  {
   "cell_type": "markdown",
   "metadata": {},
   "source": [
    "#### Training Data\n",
    "Fit, predict, assess \n",
    "- Fit the decision tree model on the training data.\n",
    "- Use the fitted model to predict values in training and in test.\n",
    "- Assess the fit in training.\n",
    "- Look at the classification report.\n",
    "- Check the confusion matrix."
   ]
  },
  {
   "cell_type": "code",
   "execution_count": null,
   "metadata": {},
   "outputs": [],
   "source": []
  },
  {
   "cell_type": "markdown",
   "metadata": {},
   "source": [
    "Trees can be plotted\n",
    "- Use the `plot_tree` function in `sklearn.tree` to see the decision tree."
   ]
  },
  {
   "cell_type": "code",
   "execution_count": null,
   "metadata": {},
   "outputs": [],
   "source": [
    "plotTree = plot_tree( pipeDt['model'], max_depth=10)\n",
    "\n",
    "import matplotlib.pyplot as plt \n",
    "plt.figure(figsize=(12,12))\n",
    "plotTree = plot_tree( pipeDt['model'], max_depth=2, fontsize=15)\n",
    "\n",
    "\n",
    "tempFeatures = pipeDt[:-1].get_feature_names_out().tolist()\n",
    "plt.figure(figsize=(20,14))\n",
    "plotTree = plot_tree( pipeDt['model'], max_depth=2, fontsize=15, feature_names=tempFeatures)\n"
   ]
  },
  {
   "cell_type": "markdown",
   "metadata": {},
   "source": [
    "#### Testing data\n",
    "- Check the fit in the testing data.\n",
    "- Classification report for test data.\n",
    "- Confusion matrix for test data."
   ]
  },
  {
   "cell_type": "code",
   "execution_count": null,
   "metadata": {},
   "outputs": [],
   "source": []
  },
  {
   "cell_type": "markdown",
   "metadata": {},
   "source": [
    "## Bagged Trees"
   ]
  },
  {
   "cell_type": "code",
   "execution_count": null,
   "metadata": {},
   "outputs": [],
   "source": [
    "pipeBagDt = Pipeline([\n",
    "], verbose=True)"
   ]
  },
  {
   "cell_type": "markdown",
   "metadata": {},
   "source": [
    "Fit and predict."
   ]
  },
  {
   "cell_type": "code",
   "execution_count": null,
   "metadata": {},
   "outputs": [],
   "source": []
  },
  {
   "cell_type": "markdown",
   "metadata": {},
   "source": [
    "## Random Forests"
   ]
  },
  {
   "cell_type": "code",
   "execution_count": null,
   "metadata": {},
   "outputs": [],
   "source": [
    "pipeRf = Pipeline([\n",
    "\n",
    "])"
   ]
  },
  {
   "cell_type": "markdown",
   "metadata": {},
   "source": [
    "Fit and predict."
   ]
  },
  {
   "cell_type": "code",
   "execution_count": null,
   "metadata": {},
   "outputs": [],
   "source": [
    "pipeRf.fit( X_train, y_train )\n",
    "predTrainRf = pipeRf.predict( X_train )\n",
    "predTestRf = pipeRf.predict( X_test )"
   ]
  },
  {
   "cell_type": "markdown",
   "metadata": {},
   "source": [
    "Assess fit."
   ]
  },
  {
   "cell_type": "code",
   "execution_count": null,
   "metadata": {},
   "outputs": [],
   "source": []
  },
  {
   "cell_type": "code",
   "execution_count": null,
   "metadata": {},
   "outputs": [],
   "source": [
    "rfBar = pandas.Series( pipeRf[ \"model\" ].feature_importances_, index=pipeRf[:-1].get_feature_names_out() ).plot.barh()"
   ]
  },
  {
   "cell_type": "markdown",
   "metadata": {},
   "source": [
    "## Boosted Trees\n",
    "\n",
    "#### AdaBoost"
   ]
  },
  {
   "cell_type": "code",
   "execution_count": null,
   "metadata": {},
   "outputs": [],
   "source": [
    "pipeAda = Pipeline([\n",
    "\n",
    "], verbose=True )"
   ]
  },
  {
   "cell_type": "markdown",
   "metadata": {},
   "source": [
    "Fit and predict."
   ]
  },
  {
   "cell_type": "code",
   "execution_count": null,
   "metadata": {},
   "outputs": [],
   "source": [
    "pipeAda.fit( X_train, y_train )\n",
    "predTrainAda = pipeAda.predict( X_train )\n",
    "predTestAda = pipeAda.predict( X_test )"
   ]
  },
  {
   "cell_type": "markdown",
   "metadata": {},
   "source": [
    "Assess fit in training."
   ]
  },
  {
   "cell_type": "code",
   "execution_count": null,
   "metadata": {},
   "outputs": [],
   "source": [
    "sklearn.metrics.balanced_accuracy_score( y_train, predTrainDt )\n",
    "sklearn.metrics.balanced_accuracy_score( y_train, predTrainBagDt )\n",
    "sklearn.metrics.balanced_accuracy_score( y_train, predTrainRf )\n",
    "sklearn.metrics.balanced_accuracy_score( y_train, predTrainAda )"
   ]
  },
  {
   "cell_type": "markdown",
   "metadata": {},
   "source": [
    "Assess fit in testing."
   ]
  },
  {
   "cell_type": "code",
   "execution_count": null,
   "metadata": {},
   "outputs": [],
   "source": [
    "sklearn.metrics.balanced_accuracy_score( y_test, predTestDt )\n",
    "sklearn.metrics.balanced_accuracy_score( y_test, predTestBagDt )\n",
    "sklearn.metrics.balanced_accuracy_score( y_test, predTestRf )\n",
    "sklearn.metrics.balanced_accuracy_score( y_test, predTestAda )"
   ]
  },
  {
   "cell_type": "markdown",
   "metadata": {},
   "source": [
    "#### Gradient Boost"
   ]
  },
  {
   "cell_type": "code",
   "execution_count": null,
   "metadata": {},
   "outputs": [],
   "source": [
    "pipeGbA = Pipeline([\n",
    "\n",
    "], verbose=True )"
   ]
  },
  {
   "cell_type": "markdown",
   "metadata": {},
   "source": [
    "Fit and predict."
   ]
  },
  {
   "cell_type": "code",
   "execution_count": null,
   "metadata": {},
   "outputs": [],
   "source": []
  },
  {
   "cell_type": "markdown",
   "metadata": {},
   "source": [
    "Assess fit in training."
   ]
  },
  {
   "cell_type": "code",
   "execution_count": null,
   "metadata": {},
   "outputs": [],
   "source": []
  },
  {
   "cell_type": "markdown",
   "metadata": {},
   "source": [
    "Assess fit in testing."
   ]
  },
  {
   "cell_type": "code",
   "execution_count": null,
   "metadata": {},
   "outputs": [],
   "source": []
  },
  {
   "cell_type": "markdown",
   "metadata": {},
   "source": [
    "## Hyperparameters"
   ]
  },
  {
   "cell_type": "markdown",
   "metadata": {},
   "source": [
    "Changing the learning rate."
   ]
  },
  {
   "cell_type": "code",
   "execution_count": null,
   "metadata": {},
   "outputs": [],
   "source": [
    "pipeGbB = Pipeline([\n",
    "], verbose=True)\n"
   ]
  },
  {
   "cell_type": "markdown",
   "metadata": {},
   "source": [
    "#### Grid search space"
   ]
  },
  {
   "cell_type": "code",
   "execution_count": null,
   "metadata": {},
   "outputs": [],
   "source": [
    "paramGridGbA = {\n",
    "}"
   ]
  },
  {
   "cell_type": "markdown",
   "metadata": {},
   "source": [
    "#### Crossfolds"
   ]
  },
  {
   "cell_type": "code",
   "execution_count": null,
   "metadata": {},
   "outputs": [],
   "source": [
    "gridGbAAccuracy = GridSearchCV( pipeGbA, paramGridGbA, cv=5, n_jobs=-1, verbose=4)"
   ]
  },
  {
   "cell_type": "code",
   "execution_count": null,
   "metadata": {},
   "outputs": [],
   "source": [
    "gridGbAAccuracy.fit( X_train, y_train )\n",
    "gridGbAAccuracy.best_params_ \n",
    "gridGbAAccuracy.best_score_"
   ]
  },
  {
   "cell_type": "code",
   "execution_count": null,
   "metadata": {},
   "outputs": [],
   "source": [
    "pipeGbA = Pipeline([\n",
    "\t('preprocessor', preprocessor ),\n",
    "\t('model', GradientBoostingClassifier() )\n",
    "], verbose=True )\n",
    "\n",
    "sklearn.metrics.balanced_accuracy_score( y_test, predTestDt )\n",
    "sklearn.metrics.balanced_accuracy_score( y_test, predTestBagDt )\n",
    "sklearn.metrics.balanced_accuracy_score( y_test, predTestRf )\n",
    "sklearn.metrics.balanced_accuracy_score( y_test, predTestAda )\n",
    "sklearn.metrics.balanced_accuracy_score( y_test, predTestGbA )"
   ]
  },
  {
   "cell_type": "code",
   "execution_count": null,
   "metadata": {},
   "outputs": [],
   "source": [
    "gridGbAAccuracy.best_estimator_.predict(X_train)\n",
    "predTrainGbAT = gridGbAAccuracy.best_estimator_.predict(X_train)\n",
    "predTestGbAT = gridGbAAccuracy.best_estimator_.predict(X_test)\n",
    "sklearn.metrics.balanced_accuracy_score( y_test, predTestDt )\n",
    "sklearn.metrics.balanced_accuracy_score( y_test, predTestBagDt )\n",
    "sklearn.metrics.balanced_accuracy_score( y_test, predTestRf )\n",
    "sklearn.metrics.balanced_accuracy_score( y_test, predTestAda )\n",
    "sklearn.metrics.balanced_accuracy_score( y_test, predTestGbA )\n",
    "sklearn.metrics.balanced_accuracy_score( y_test, predTestGbAT )"
   ]
  },
  {
   "cell_type": "markdown",
   "metadata": {},
   "source": [
    "## Practice"
   ]
  },
  {
   "cell_type": "markdown",
   "metadata": {},
   "source": []
  }
 ],
 "metadata": {
  "kernelspec": {
   "display_name": "base",
   "language": "python",
   "name": "python3"
  },
  "language_info": {
   "codemirror_mode": {
    "name": "ipython",
    "version": 3
   },
   "file_extension": ".py",
   "mimetype": "text/x-python",
   "name": "python",
   "nbconvert_exporter": "python",
   "pygments_lexer": "ipython3",
   "version": "3.10.13"
  }
 },
 "nbformat": 4,
 "nbformat_minor": 2
}
